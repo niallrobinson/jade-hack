{
 "cells": [
  {
   "cell_type": "markdown",
   "metadata": {},
   "source": [
    "# Real Life Atmospheric Data!\n",
    "\n",
    "Firstly, cast this magic spell to get some string paths to data files."
   ]
  },
  {
   "cell_type": "code",
   "execution_count": null,
   "metadata": {
    "collapsed": true
   },
   "outputs": [],
   "source": [
    "#!git clone https://github.com/met-office-lab/asn_data_utils.git\n",
    "from asn_data_utils.asn_utils.Loader import Loader\n",
    "l = Loader()\n",
    "fs = l.list_files(\"mogreps\")"
   ]
  },
  {
   "cell_type": "markdown",
   "metadata": {},
   "source": [
    "Now we can make two sets of files.\n",
    "\n",
    "This first one gives us a list of file paths on the same node as this Notebook i.e. local loading. We're just doing this for one day."
   ]
  },
  {
   "cell_type": "code",
   "execution_count": 58,
   "metadata": {
    "collapsed": false
   },
   "outputs": [],
   "source": [
    "local_fs_for_20161002T0000Z = [f for f in fs if '20161002T0000Z' in f and '_000_' not in f]"
   ]
  },
  {
   "cell_type": "markdown",
   "metadata": {},
   "source": [
    "And this second one gives us the same files but now for thier paths on the Dask nodes. All files and can be accessed from any node."
   ]
  },
  {
   "cell_type": "code",
   "execution_count": 61,
   "metadata": {
    "collapsed": false
   },
   "outputs": [],
   "source": [
    "node_fs_for_20161002T0000Z = [f.replace('/usr/local/share/notebooks/', '/') for f in local_fs_for_20161002T0000Z]"
   ]
  },
  {
   "cell_type": "markdown",
   "metadata": {},
   "source": [
    "We're going to use Iris, the Met Office's Python data analysis module. Here's it's going to load a bunch of the data files locally into separate data objects, called `cubes`"
   ]
  },
  {
   "cell_type": "code",
   "execution_count": 62,
   "metadata": {
    "collapsed": false
   },
   "outputs": [
    {
     "name": "stderr",
     "output_type": "stream",
     "text": [
      "/opt/conda/lib/python3.5/site-packages/iris/fileformats/_ff.py:732: UserWarning: The STASH code m10s20i033 was not found in the STASH to grid type mapping. Picking the P position as the cell type\n",
      "  'position as the cell type'.format(stash))\n",
      "/opt/conda/lib/python3.5/site-packages/iris/fileformats/rules.py:80: UserWarning: Multiple reference cubes for orography\n",
      "  .format(self.name))\n"
     ]
    }
   ],
   "source": [
    "import iris\n",
    "ds = iris.load_raw(fs_for_20161002T0000Z[:30], \"precipitation_amount\")"
   ]
  },
  {
   "cell_type": "code",
   "execution_count": 63,
   "metadata": {
    "collapsed": true
   },
   "outputs": [
    {
     "name": "stdout",
     "output_type": "stream",
     "text": [
      "0: precipitation_amount / (kg m-2)     (latitude: 600; longitude: 800)\n",
      "1: precipitation_amount / (kg m-2)     (latitude: 600; longitude: 800)\n",
      "2: precipitation_amount / (kg m-2)     (latitude: 600; longitude: 800)\n",
      "3: precipitation_amount / (kg m-2)     (latitude: 600; longitude: 800)\n",
      "4: precipitation_amount / (kg m-2)     (latitude: 600; longitude: 800)\n",
      "5: precipitation_amount / (kg m-2)     (latitude: 600; longitude: 800)\n",
      "6: precipitation_amount / (kg m-2)     (latitude: 600; longitude: 800)\n",
      "7: precipitation_amount / (kg m-2)     (latitude: 600; longitude: 800)\n",
      "8: precipitation_amount / (kg m-2)     (latitude: 600; longitude: 800)\n",
      "9: precipitation_amount / (kg m-2)     (latitude: 600; longitude: 800)\n",
      "10: precipitation_amount / (kg m-2)     (latitude: 600; longitude: 800)\n",
      "11: precipitation_amount / (kg m-2)     (latitude: 600; longitude: 800)\n",
      "12: precipitation_amount / (kg m-2)     (latitude: 600; longitude: 800)\n",
      "13: precipitation_amount / (kg m-2)     (latitude: 600; longitude: 800)\n",
      "14: precipitation_amount / (kg m-2)     (latitude: 600; longitude: 800)\n",
      "15: precipitation_amount / (kg m-2)     (latitude: 600; longitude: 800)\n",
      "16: precipitation_amount / (kg m-2)     (latitude: 600; longitude: 800)\n",
      "17: precipitation_amount / (kg m-2)     (latitude: 600; longitude: 800)\n",
      "18: precipitation_amount / (kg m-2)     (latitude: 600; longitude: 800)\n",
      "19: precipitation_amount / (kg m-2)     (latitude: 600; longitude: 800)\n",
      "20: precipitation_amount / (kg m-2)     (latitude: 600; longitude: 800)\n",
      "21: precipitation_amount / (kg m-2)     (latitude: 600; longitude: 800)\n",
      "22: precipitation_amount / (kg m-2)     (latitude: 600; longitude: 800)\n",
      "23: precipitation_amount / (kg m-2)     (latitude: 600; longitude: 800)\n",
      "24: precipitation_amount / (kg m-2)     (latitude: 600; longitude: 800)\n",
      "25: precipitation_amount / (kg m-2)     (latitude: 600; longitude: 800)\n",
      "26: precipitation_amount / (kg m-2)     (latitude: 600; longitude: 800)\n",
      "27: precipitation_amount / (kg m-2)     (latitude: 600; longitude: 800)\n",
      "28: precipitation_amount / (kg m-2)     (latitude: 600; longitude: 800)\n",
      "29: precipitation_amount / (kg m-2)     (latitude: 600; longitude: 800)\n",
      "30: precipitation_amount / (kg m-2)     (latitude: 600; longitude: 800)\n",
      "31: precipitation_amount / (kg m-2)     (latitude: 600; longitude: 800)\n",
      "32: precipitation_amount / (kg m-2)     (latitude: 600; longitude: 800)\n",
      "33: precipitation_amount / (kg m-2)     (latitude: 600; longitude: 800)\n",
      "34: precipitation_amount / (kg m-2)     (latitude: 600; longitude: 800)\n",
      "35: precipitation_amount / (kg m-2)     (latitude: 600; longitude: 800)\n",
      "36: precipitation_amount / (kg m-2)     (latitude: 600; longitude: 800)\n",
      "37: precipitation_amount / (kg m-2)     (latitude: 600; longitude: 800)\n",
      "38: precipitation_amount / (kg m-2)     (latitude: 600; longitude: 800)\n",
      "39: precipitation_amount / (kg m-2)     (latitude: 600; longitude: 800)\n",
      "40: precipitation_amount / (kg m-2)     (latitude: 600; longitude: 800)\n",
      "41: precipitation_amount / (kg m-2)     (latitude: 600; longitude: 800)\n",
      "42: precipitation_amount / (kg m-2)     (latitude: 600; longitude: 800)\n",
      "43: precipitation_amount / (kg m-2)     (latitude: 600; longitude: 800)\n",
      "44: precipitation_amount / (kg m-2)     (latitude: 600; longitude: 800)\n",
      "45: precipitation_amount / (kg m-2)     (latitude: 600; longitude: 800)\n",
      "46: precipitation_amount / (kg m-2)     (latitude: 600; longitude: 800)\n",
      "47: precipitation_amount / (kg m-2)     (latitude: 600; longitude: 800)\n",
      "48: precipitation_amount / (kg m-2)     (latitude: 600; longitude: 800)\n",
      "49: precipitation_amount / (kg m-2)     (latitude: 600; longitude: 800)\n",
      "50: precipitation_amount / (kg m-2)     (latitude: 600; longitude: 800)\n",
      "51: precipitation_amount / (kg m-2)     (latitude: 600; longitude: 800)\n",
      "52: precipitation_amount / (kg m-2)     (latitude: 600; longitude: 800)\n",
      "53: precipitation_amount / (kg m-2)     (latitude: 600; longitude: 800)\n",
      "54: precipitation_amount / (kg m-2)     (latitude: 600; longitude: 800)\n",
      "55: precipitation_amount / (kg m-2)     (latitude: 600; longitude: 800)\n",
      "56: precipitation_amount / (kg m-2)     (latitude: 600; longitude: 800)\n",
      "57: precipitation_amount / (kg m-2)     (latitude: 600; longitude: 800)\n",
      "58: precipitation_amount / (kg m-2)     (latitude: 600; longitude: 800)\n",
      "59: precipitation_amount / (kg m-2)     (latitude: 600; longitude: 800)\n",
      "60: precipitation_amount / (kg m-2)     (latitude: 600; longitude: 800)\n",
      "61: precipitation_amount / (kg m-2)     (latitude: 600; longitude: 800)\n",
      "62: precipitation_amount / (kg m-2)     (latitude: 600; longitude: 800)\n",
      "63: precipitation_amount / (kg m-2)     (latitude: 600; longitude: 800)\n",
      "64: precipitation_amount / (kg m-2)     (latitude: 600; longitude: 800)\n",
      "65: precipitation_amount / (kg m-2)     (latitude: 600; longitude: 800)\n",
      "66: precipitation_amount / (kg m-2)     (latitude: 600; longitude: 800)\n",
      "67: precipitation_amount / (kg m-2)     (latitude: 600; longitude: 800)\n",
      "68: precipitation_amount / (kg m-2)     (latitude: 600; longitude: 800)\n",
      "69: precipitation_amount / (kg m-2)     (latitude: 600; longitude: 800)\n",
      "70: precipitation_amount / (kg m-2)     (latitude: 600; longitude: 800)\n",
      "71: precipitation_amount / (kg m-2)     (latitude: 600; longitude: 800)\n",
      "72: precipitation_amount / (kg m-2)     (latitude: 600; longitude: 800)\n",
      "73: precipitation_amount / (kg m-2)     (latitude: 600; longitude: 800)\n",
      "74: precipitation_amount / (kg m-2)     (latitude: 600; longitude: 800)\n",
      "75: precipitation_amount / (kg m-2)     (latitude: 600; longitude: 800)\n",
      "76: precipitation_amount / (kg m-2)     (latitude: 600; longitude: 800)\n",
      "77: precipitation_amount / (kg m-2)     (latitude: 600; longitude: 800)\n",
      "78: precipitation_amount / (kg m-2)     (latitude: 600; longitude: 800)\n",
      "79: precipitation_amount / (kg m-2)     (latitude: 600; longitude: 800)\n",
      "80: precipitation_amount / (kg m-2)     (latitude: 600; longitude: 800)\n",
      "81: precipitation_amount / (kg m-2)     (latitude: 600; longitude: 800)\n",
      "82: precipitation_amount / (kg m-2)     (latitude: 600; longitude: 800)\n",
      "83: precipitation_amount / (kg m-2)     (latitude: 600; longitude: 800)\n",
      "84: precipitation_amount / (kg m-2)     (latitude: 600; longitude: 800)\n",
      "85: precipitation_amount / (kg m-2)     (latitude: 600; longitude: 800)\n",
      "86: precipitation_amount / (kg m-2)     (latitude: 600; longitude: 800)\n",
      "87: precipitation_amount / (kg m-2)     (latitude: 600; longitude: 800)\n",
      "88: precipitation_amount / (kg m-2)     (latitude: 600; longitude: 800)\n",
      "89: precipitation_amount / (kg m-2)     (latitude: 600; longitude: 800)\n"
     ]
    }
   ],
   "source": [
    "print(ds)"
   ]
  },
  {
   "cell_type": "markdown",
   "metadata": {},
   "source": [
    "Each cube is a numpy array (`ds[0].data`) with associated metadata. Using the magic of Iris we can turn these into one cube."
   ]
  },
  {
   "cell_type": "code",
   "execution_count": 65,
   "metadata": {
    "collapsed": false
   },
   "outputs": [
    {
     "name": "stdout",
     "output_type": "stream",
     "text": [
      "precipitation_amount / (kg m-2)     (-- : 90; latitude: 600; longitude: 800)\n",
      "     Dimension coordinates:\n",
      "          latitude                      -             x               -\n",
      "          longitude                     -             -               x\n",
      "     Auxiliary coordinates:\n",
      "          forecast_period               x             -               -\n",
      "          realization                   x             -               -\n",
      "          time                          x             -               -\n",
      "     Scalar coordinates:\n",
      "          forecast_reference_time: 2016-10-02 00:00:00\n",
      "     Attributes:\n",
      "          STASH: m01s05i226\n",
      "          source: Data from Met Office Unified Model\n",
      "          um_version: 10.2\n",
      "     Cell methods:\n",
      "          mean: time (1 hour)\n"
     ]
    }
   ],
   "source": [
    "d = ds.merge_cube()\n",
    "print(d)"
   ]
  },
  {
   "cell_type": "markdown",
   "metadata": {},
   "source": [
    "So this now looks like one cube, but its actually made up of lots of separate cubes from separate files...\n",
    "\n",
    "...so can we put these files on different nodes?\n",
    "\n",
    "### Your challenge, should you choose to accept it...\n",
    "Is to see if you can do distributed processing on this data. We've got another 1EB of it, so it would be rather lovely if we could crack this!"
   ]
  },
  {
   "cell_type": "code",
   "execution_count": null,
   "metadata": {
    "collapsed": true
   },
   "outputs": [],
   "source": []
  }
 ],
 "metadata": {
  "kernelspec": {
   "display_name": "Python 3",
   "language": "python",
   "name": "python3"
  },
  "language_info": {
   "codemirror_mode": {
    "name": "ipython",
    "version": 3
   },
   "file_extension": ".py",
   "mimetype": "text/x-python",
   "name": "python",
   "nbconvert_exporter": "python",
   "pygments_lexer": "ipython3",
   "version": "3.5.2"
  }
 },
 "nbformat": 4,
 "nbformat_minor": 1
}
